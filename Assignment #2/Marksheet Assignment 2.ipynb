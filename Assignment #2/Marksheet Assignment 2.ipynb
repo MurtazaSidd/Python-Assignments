{
 "cells": [
  {
   "cell_type": "code",
   "execution_count": 72,
   "id": "e4c5a1ce",
   "metadata": {},
   "outputs": [
    {
     "name": "stdout",
     "output_type": "stream",
     "text": [
      "Name:Muhammad Murtaza Siddiqui\n",
      "Father's Name:Muhammad Faisal Siddiqui\n",
      "Roll Number:JP13500\n",
      "============================================================================\n",
      "\t Subject \t\t   Marks Obtained \t\t Max Marks\n",
      "\t ======= \t\t   ============== \t\t =========\n",
      "\n",
      "\t English \t\t\t 75 \t\t\t    100 \n",
      "\n",
      "\t Islamiat \t\t\t 76 \t\t\t    100 \n",
      "\n",
      "\t Mathematics \t\t\t 98 \t\t\t    100 \n",
      "\n",
      "==============================================================================\n",
      "\t Total \t\t\t\t 249   \t\t\t    300\n",
      "==============================================================================\n",
      "\t Percentage \t\t\t 83.0\n",
      "==============================================================================\n",
      "\t Grade \t\t\t\t A+\n",
      "==============================================================================\n"
     ]
    }
   ],
   "source": [
    "eng=75\n",
    "isl=76\n",
    "maths=98\n",
    "total_marks=300\n",
    "marks_obtained=eng+isl+maths\n",
    "percentage= (marks_obtained/total_marks)*100\n",
    "\n",
    "if percentage<= 100 and percentage >=80:\n",
    "    grade=\"A+\"\n",
    "elif percentage <80 and percentage >=70:\n",
    "    grade=\"A\"\n",
    "elif percentage <70 and percentage >=60:\n",
    "    grade=\"B\"\n",
    "elif percentage <60 and percentage >=50:\n",
    "    grade=\"C\"\n",
    "elif percentage <50 and percentage >=40:\n",
    "    grade=\"D\"\n",
    "elif percentage <40 and percentage >=33:\n",
    "    grade=\"E\"\n",
    "else:\n",
    "    grade=\"F\"\n",
    "    \n",
    "print(\"Name:Muhammad Murtaza Siddiqui\")\n",
    "print(\"Father's Name:Muhammad Faisal Siddiqui\")\n",
    "print(\"Roll Number:JP13500\") \n",
    "print(\"============================================================================\")\n",
    "print(\"\\t Subject \\t\\t   Marks Obtained \\t\\t Max Marks\")\n",
    "print(\"\\t ======= \\t\\t   ============== \\t\\t =========\")\n",
    "print(\"\\n\\t English \\t\\t\\t 75 \\t\\t\\t    100 \")\n",
    "print(\"\\n\\t Islamiat \\t\\t\\t 76 \\t\\t\\t    100 \")\n",
    "print(\"\\n\\t Mathematics \\t\\t\\t 98 \\t\\t\\t    100 \")\n",
    "print(\"\\n==============================================================================\")\n",
    "print(\"\\t Total \\t\\t\\t\\t\", marks_obtained,\"  \\t\\t\\t   \" ,total_marks)\n",
    "print(\"==============================================================================\")\n",
    "print(\"\\t Percentage \\t\\t\\t\", percentage)\n",
    "print(\"==============================================================================\")\n",
    "print(\"\\t Grade \\t\\t\\t\\t\", grade)\n",
    "print(\"==============================================================================\")"
   ]
  },
  {
   "cell_type": "code",
   "execution_count": null,
   "id": "4f0aac9f",
   "metadata": {},
   "outputs": [],
   "source": []
  }
 ],
 "metadata": {
  "kernelspec": {
   "display_name": "Python 3",
   "language": "python",
   "name": "python3"
  },
  "language_info": {
   "codemirror_mode": {
    "name": "ipython",
    "version": 3
   },
   "file_extension": ".py",
   "mimetype": "text/x-python",
   "name": "python",
   "nbconvert_exporter": "python",
   "pygments_lexer": "ipython3",
   "version": "3.8.8"
  }
 },
 "nbformat": 4,
 "nbformat_minor": 5
}
