{
 "cells": [
  {
   "cell_type": "code",
   "execution_count": 5,
   "id": "59775d91",
   "metadata": {},
   "outputs": [
    {
     "name": "stdout",
     "output_type": "stream",
     "text": [
      "\t Twinkle, twinkle, little star,\n",
      "\t \t How I wonder what you are!\n",
      "\t \t \tUp above the world so high,\n",
      "\t \t \t Like a diamond in the sky.\n",
      "\t Twinkle, twinkle, little star,\n",
      "\t \t How I wonder what you are\n"
     ]
    }
   ],
   "source": [
    "#1. Write a Python program to print the following string in a specific format (see the output).\n",
    "#          Twinkle, twinkle, little star,\n",
    "#                   How I wonder what you are!\n",
    "#                          Up above the world so high,\n",
    "#                          Like a diamond in the sky.\n",
    "#          Twinkle, twinkle, little star,\n",
    "#                   How I wonder what you are\n",
    "print(\"\\t Twinkle, twinkle, little star,\")\n",
    "print(\"\\t \\t How I wonder what you are!\")\n",
    "print(\"\\t \\t \\tUp above the world so high,\")\n",
    "print(\"\\t \\t \\t Like a diamond in the sky.\")\n",
    "print(\"\\t Twinkle, twinkle, little star,\")\n",
    "print(\"\\t \\t How I wonder what you are\")"
   ]
  },
  {
   "cell_type": "code",
   "execution_count": 17,
   "id": "74c11e34",
   "metadata": {},
   "outputs": [
    {
     "name": "stdout",
     "output_type": "stream",
     "text": [
      "Python version \n",
      " \t 3.8.8 (default, Apr 13 2021, 15:08:03) [MSC v.1916 64 bit (AMD64)]\n",
      "Version info\n",
      "\t sys.version_info(major=3, minor=8, micro=8, releaselevel='final', serial=0)\n"
     ]
    }
   ],
   "source": [
    "#2. Write a Python program to get the Python version you are using\n",
    "\n",
    "import sys as Python_Jupiter\n",
    "print(\"Python version\",\"\\n \\t\",Python_Jupiter.version)\n",
    "print(\"Version info\")\n",
    "print (\"\\t\",Python_Jupiter.version_info)"
   ]
  },
  {
   "cell_type": "code",
   "execution_count": 33,
   "id": "dca98dc3",
   "metadata": {},
   "outputs": [
    {
     "name": "stdout",
     "output_type": "stream",
     "text": [
      "Date: 24/10/2021\n",
      "Time: 11:44:12\n"
     ]
    }
   ],
   "source": [
    "#3. Write a Python program to display the current date and time.\n",
    "\n",
    "\n",
    "import datetime\n",
    "date = datetime.date.today()\n",
    "print(\"Date:\",date.strftime(\"%d/%m/%Y\"))\n",
    "time = datetime.datetime.now()\n",
    "print(\"Time:\",time.strftime(\"%H:%M:%S\"))"
   ]
  },
  {
   "cell_type": "code",
   "execution_count": 63,
   "id": "c4cd9e82",
   "metadata": {},
   "outputs": [
    {
     "name": "stdout",
     "output_type": "stream",
     "text": [
      "Enter Radius of a Circle : 4\n",
      "Area of a Circle = 50.265\n"
     ]
    }
   ],
   "source": [
    "#4. Write a Python program which accepts the radius of a circle from the user and compute the area\n",
    "\n",
    "import math\n",
    "radius= float(input(\"Enter Radius of a Circle : \"))\n",
    "area = round (math.pi *(radius**2),3)\n",
    "print(\"Area of a Circle =\",area)"
   ]
  },
  {
   "cell_type": "code",
   "execution_count": 62,
   "id": "857df893",
   "metadata": {},
   "outputs": [
    {
     "name": "stdout",
     "output_type": "stream",
     "text": [
      "Enter First Name : Murtaza\n",
      "Enter Last Name : Siddiqui\n",
      "Siddiqui Murtaza\n"
     ]
    }
   ],
   "source": [
    "#5 Write a Python program which accepts the user's first and last name and print them in\n",
    "#  reverse order with a space between them.\n",
    "\n",
    "First_Name=input(\"Enter First Name : \")\n",
    "Last_Name=input(\"Enter Last Name : \")\n",
    "print(Last_Name+\" \"+First_Name)"
   ]
  },
  {
   "cell_type": "code",
   "execution_count": 71,
   "id": "7f61c9ae",
   "metadata": {},
   "outputs": [
    {
     "name": "stdout",
     "output_type": "stream",
     "text": [
      "Enter First Number : 13\n",
      "Enter Second Number : 35\n",
      "Addition of Given Numbers = 13 + 35 = 48\n"
     ]
    }
   ],
   "source": [
    "#6. Write a python program which takes two inputs from user and print them addition\n",
    "\n",
    "number1 = int(input(\"Enter First Number : \"))\n",
    "number2 = int(input(\"Enter Second Number : \"))\n",
    "print(\"Addition of Given Numbers =\",number1,\"+\",number2,\"=\",number1 + number2)"
   ]
  },
  {
   "cell_type": "code",
   "execution_count": 83,
   "id": "1bc46cda",
   "metadata": {},
   "outputs": [
    {
     "name": "stdout",
     "output_type": "stream",
     "text": [
      "Enter English Marks : 78\n",
      "Enter Islamiat Marks : 79\n",
      "Enter Mathematics Marks : 98\n",
      "Enter Physics Marks : 97\n",
      "Enter Chemistry Marks : 96\n",
      "============================================================================\n",
      "Name:Muhammad Murtaza Siddiqui\n",
      "Father's Name:Muhammad Faisal Siddiqui\n",
      "Roll Number:JP13500\n",
      "============================================================================\n",
      "\t Subject \t\t   Marks Obtained \t\t Max Marks\n",
      "\t ======= \t\t   ============== \t\t =========\n",
      "\n",
      "\t English \t\t\t 78 \t\t\t    100 \n",
      "\n",
      "\t Islamiat \t\t\t 79 \t\t\t    100 \n",
      "\n",
      "\t Mathematics \t\t\t 98 \t\t\t    100 \n",
      "\n",
      "\t Physics \t\t\t 97 \t\t\t    100 \n",
      "\n",
      "\t Chemistry \t\t\t 96 \t\t\t    100 \n",
      "\n",
      "==============================================================================\n",
      "\t Total \t\t\t\t 448   \t\t\t    500\n",
      "==============================================================================\n",
      "\t Percentage \t\t\t 89.6\n",
      "==============================================================================\n",
      "\t Grade \t\t\t\t A+\n",
      "==============================================================================\n"
     ]
    }
   ],
   "source": [
    "#7. Write a program which takes 5 inputs from user for different subject’s marks, total it\n",
    "#   and generate mark sheet using grades ?\n",
    "\n",
    "eng=int(input(\"Enter English Marks : \"))\n",
    "isl=int(input(\"Enter Islamiat Marks : \"))\n",
    "maths=int(input(\"Enter Mathematics Marks : \"))\n",
    "phy=int(input(\"Enter Physics Marks : \"))\n",
    "chem=int(input(\"Enter Chemistry Marks : \"))\n",
    "total_marks=500\n",
    "marks_obtained=eng+isl+maths+phy+chem\n",
    "percentage= round ((marks_obtained/total_marks)*100,2)\n",
    "\n",
    "if maths<0 or maths>100:\n",
    "    print(\"Invalid Input\")\n",
    "elif isl<0 or isl>100:\n",
    "    print(\"Invalid Input\")\n",
    "elif eng<0 or eng>100:\n",
    "    print(\"Invalid Input\")\n",
    "elif phy<0 or phy>100:\n",
    "    print(\"Invalid Input\")\n",
    "elif chem<0 or chem>100:\n",
    "    print(\"Invalid Input\")\n",
    "else:\n",
    "    if percentage<= 100 and percentage >=80:\n",
    "        grade=\"A+\"\n",
    "    elif percentage <80 and percentage >=70:\n",
    "        grade=\"A\"\n",
    "    elif percentage <70 and percentage >=60:\n",
    "        grade=\"B\"\n",
    "    elif percentage <60 and percentage >=50:\n",
    "        grade=\"C\"\n",
    "    elif percentage <50 and percentage >=40:\n",
    "        grade=\"D\"\n",
    "    elif percentage <40 and percentage >=33:\n",
    "        grade=\"E\"\n",
    "    else:\n",
    "        grade=\"F\"   \n",
    "            \n",
    "    print(\"============================================================================\")\n",
    "    print(\"Name:Muhammad Murtaza Siddiqui\")\n",
    "    print(\"Father's Name:Muhammad Faisal Siddiqui\")\n",
    "    print(\"Roll Number:JP13500\") \n",
    "    print(\"============================================================================\")\n",
    "    print(\"\\t Subject \\t\\t   Marks Obtained \\t\\t Max Marks\")\n",
    "    print(\"\\t ======= \\t\\t   ============== \\t\\t =========\")\n",
    "    print(\"\\n\\t English \\t\\t\\t\",eng,\"\\t\\t\\t    100 \") \n",
    "    print(\"\\n\\t Islamiat \\t\\t\\t\",isl,\"\\t\\t\\t    100 \")\n",
    "    print(\"\\n\\t Mathematics \\t\\t\\t\",maths,\"\\t\\t\\t    100 \")\n",
    "    print(\"\\n\\t Physics \\t\\t\\t\",phy,\"\\t\\t\\t    100 \")\n",
    "    print(\"\\n\\t Chemistry \\t\\t\\t\",chem,\"\\t\\t\\t    100 \")\n",
    "    print(\"\\n==============================================================================\")\n",
    "    print(\"\\t Total \\t\\t\\t\\t\", marks_obtained,\"  \\t\\t\\t   \" ,total_marks)\n",
    "    print(\"==============================================================================\")\n",
    "    print(\"\\t Percentage \\t\\t\\t\", percentage)\n",
    "    print(\"==============================================================================\")\n",
    "    print(\"\\t Grade \\t\\t\\t\\t\", grade)\n",
    "    print(\"==============================================================================\")"
   ]
  },
  {
   "cell_type": "code",
   "execution_count": 88,
   "id": "f2b00604",
   "metadata": {},
   "outputs": [
    {
     "name": "stdout",
     "output_type": "stream",
     "text": [
      "Enter Number : 34\n",
      "\n",
      "Even\n"
     ]
    }
   ],
   "source": [
    "#8. Write a program which take input from user and identify that the given number is even\n",
    "#   or odd?\n",
    "\n",
    "\n",
    "number= int(input(\"Enter Number : \"))\n",
    "if number %2 ==0:\n",
    "    print(\"\\nEven\")\n",
    "else:\n",
    "    print(\"\\nOdd\")"
   ]
  },
  {
   "cell_type": "code",
   "execution_count": 89,
   "id": "18193bb2",
   "metadata": {},
   "outputs": [
    {
     "name": "stdout",
     "output_type": "stream",
     "text": [
      "5\n"
     ]
    }
   ],
   "source": [
    "#9. Write a program which print the length of the list\n",
    "\n",
    "list1 =[1,2,5,6,89]\n",
    "print(len(list1))"
   ]
  },
  {
   "cell_type": "code",
   "execution_count": 97,
   "id": "638a5876",
   "metadata": {},
   "outputs": [
    {
     "name": "stdout",
     "output_type": "stream",
     "text": [
      "41.4\n"
     ]
    }
   ],
   "source": [
    "#10.Write a Python program to sum all the numeric items in a list?\n",
    "\n",
    "n = [12.4,\"Ali\",23,6,\"Murtaza\"]\n",
    "num=0\n",
    "for i in range(len(n)):\n",
    "    if type(n[i]) is int or type(n[i]) is float:\n",
    "        num+=n[i]\n",
    "print(num)        "
   ]
  },
  {
   "cell_type": "code",
   "execution_count": 106,
   "id": "126f8443",
   "metadata": {},
   "outputs": [
    {
     "name": "stdout",
     "output_type": "stream",
     "text": [
      "90\n"
     ]
    }
   ],
   "source": [
    "#11.Write a Python program to get the largest number from a numeric list.\n",
    "\n",
    "lis=[6,90,3,78,45,8,12,56]\n",
    "largest_number=0\n",
    "for i in range(len(lis)):\n",
    "    if largest_number< lis[i]:\n",
    "        largest_number=lis[i]\n",
    "print(largest_number)          "
   ]
  },
  {
   "cell_type": "code",
   "execution_count": 111,
   "id": "59b4c14c",
   "metadata": {},
   "outputs": [
    {
     "name": "stdout",
     "output_type": "stream",
     "text": [
      "1\n",
      "1\n",
      "2\n",
      "3\n"
     ]
    }
   ],
   "source": [
    "#12. Take a list, say for example this one:\n",
    "#      a = [1, 1, 2, 3, 5, 8, 13, 21, 34, 55, 89]\n",
    "#     Write a program that prints out all the elements of the list that are less than 5.\n",
    "\n",
    "a = [1, 1, 2, 3, 5, 8, 13, 21, 34, 55, 89]\n",
    "for i in range(len(lis)):\n",
    "    if a[i]<5:\n",
    "        print(a[i])"
   ]
  },
  {
   "cell_type": "code",
   "execution_count": null,
   "id": "6f13ebbf",
   "metadata": {},
   "outputs": [],
   "source": []
  }
 ],
 "metadata": {
  "kernelspec": {
   "display_name": "Python 3",
   "language": "python",
   "name": "python3"
  },
  "language_info": {
   "codemirror_mode": {
    "name": "ipython",
    "version": 3
   },
   "file_extension": ".py",
   "mimetype": "text/x-python",
   "name": "python",
   "nbconvert_exporter": "python",
   "pygments_lexer": "ipython3",
   "version": "3.8.8"
  }
 },
 "nbformat": 4,
 "nbformat_minor": 5
}
