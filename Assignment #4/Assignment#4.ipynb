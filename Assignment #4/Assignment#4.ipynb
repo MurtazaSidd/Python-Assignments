{
 "cells": [
  {
   "cell_type": "code",
   "execution_count": 2,
   "id": "1dea29ec",
   "metadata": {},
   "outputs": [
    {
     "name": "stdout",
     "output_type": "stream",
     "text": [
      "Enter First Number32\n",
      "Enter Second Number2\n",
      "Enter one Operation (+,-,/,*,**) :+\n",
      "34\n"
     ]
    }
   ],
   "source": [
    "#Make a calculator using Python with addition , subtraction ,multiplication ,division and power\n",
    "\n",
    "def calc(n1,n2,operation):\n",
    "    if (operation=='+'):\n",
    "        return n1+n2\n",
    "    elif (operation=='-'):\n",
    "        return n1-n2\n",
    "    elif (operation=='/'):\n",
    "        return n1/n2\n",
    "    elif (operation=='*'):\n",
    "        return n1*n2\n",
    "    elif (operation=='**'):\n",
    "        return n1**n2\n",
    "    else:\n",
    "        return \"Error Incorrect Operation\"\n",
    "\n",
    "n1=int(input(\"Enter First Number\"))\n",
    "n2=int(input(\"Enter Second Number\"))\n",
    "operation=input(\"Enter one Operation (+,-,/,*,**) :\")\n",
    "print(calc(n1,n2,operation))\n"
   ]
  },
  {
   "cell_type": "code",
   "execution_count": 3,
   "id": "287c7a64",
   "metadata": {},
   "outputs": [
    {
     "name": "stdout",
     "output_type": "stream",
     "text": [
      "[34, 2.32]\n"
     ]
    }
   ],
   "source": [
    "#Write a program to check if there is any numeric value in list using for loop.\n",
    "\n",
    "lst=['grape',34,'mango',2.32]\n",
    "numlst=[]\n",
    "for i in range (len(lst)):\n",
    "    if (type(lst[i]) is int or type(lst[i])is float):\n",
    "        numlst.append(lst[i])\n",
    "print(numlst)\n"
   ]
  },
  {
   "cell_type": "code",
   "execution_count": 11,
   "id": "0036823c",
   "metadata": {},
   "outputs": [
    {
     "name": "stdout",
     "output_type": "stream",
     "text": [
      "{0: 'm', 1: 'n', 2: 'o'}\n"
     ]
    }
   ],
   "source": [
    "#Program to add key to a dictionary\n",
    "\n",
    "dct = {0:'m', 1:'n'}\n",
    "dct.update({2:'o'})\n",
    "print(d)"
   ]
  },
  {
   "cell_type": "code",
   "execution_count": 12,
   "id": "b0a0e8c4",
   "metadata": {},
   "outputs": [
    {
     "name": "stdout",
     "output_type": "stream",
     "text": [
      "210\n"
     ]
    }
   ],
   "source": [
    "#Write a Python program to sum all the numeric items in a dictionary.\n",
    "\n",
    "dict1={12:'w',143:'x','y':23,'z':32}\n",
    "sum=0\n",
    "for i,j in dict1.items():\n",
    "    if type(i) is int:\n",
    "        sum+= i\n",
    "    if type(j) is int:\n",
    "        sum+= j\n",
    "\n",
    "print(sum)        \n",
    "    "
   ]
  },
  {
   "cell_type": "code",
   "execution_count": 18,
   "id": "6703b6fe",
   "metadata": {},
   "outputs": [
    {
     "name": "stdout",
     "output_type": "stream",
     "text": [
      "Duplicate Items List [12, 23, 'm', 'g']\n"
     ]
    }
   ],
   "source": [
    "#Write a program to identify duplicate values from list.\n",
    "\n",
    "lst=[12,14,'g',23,12,56,'m',23,'m',97,54,'g']\n",
    "listitems=[]\n",
    "duplist=[]\n",
    "for i in lst:\n",
    "    if i in listitems:\n",
    "        duplist.append(i)\n",
    "    if i not in listitems:\n",
    "        listitems.append(i)\n",
    "                \n",
    "print (\"Duplicate Items List\", duplist)        \n",
    "        "
   ]
  },
  {
   "cell_type": "code",
   "execution_count": 21,
   "id": "2fa8e8f8",
   "metadata": {},
   "outputs": [
    {
     "name": "stdout",
     "output_type": "stream",
     "text": [
      "Enter Key5\n",
      "Key is present in the dictionary\n"
     ]
    }
   ],
   "source": [
    "#Write a Python script to check if a given key already exists in a\n",
    "#dictionary\n",
    "\n",
    "d = {1: 10, 2: 20, 3: 30, 4: 40, 5: 50, 6: 60}\n",
    "x=int(input(\"Enter Key\"))\n",
    "if x in d:\n",
    "    print('Key is present in the dictionary')\n",
    "else:\n",
    "        print('Key is not present in the dictionary')\n"
   ]
  },
  {
   "cell_type": "code",
   "execution_count": null,
   "id": "d27b5ea6",
   "metadata": {},
   "outputs": [],
   "source": []
  },
  {
   "cell_type": "code",
   "execution_count": null,
   "id": "d4bf2ac0",
   "metadata": {},
   "outputs": [],
   "source": []
  }
 ],
 "metadata": {
  "kernelspec": {
   "display_name": "Python 3",
   "language": "python",
   "name": "python3"
  },
  "language_info": {
   "codemirror_mode": {
    "name": "ipython",
    "version": 3
   },
   "file_extension": ".py",
   "mimetype": "text/x-python",
   "name": "python",
   "nbconvert_exporter": "python",
   "pygments_lexer": "ipython3",
   "version": "3.8.8"
  }
 },
 "nbformat": 4,
 "nbformat_minor": 5
}
